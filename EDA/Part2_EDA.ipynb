{
  "nbformat": 4,
  "nbformat_minor": 0,
  "metadata": {
    "colab": {
      "name": "Part2_EDA.ipynb",
      "provenance": [],
      "include_colab_link": true
    },
    "kernelspec": {
      "display_name": "Python 3",
      "language": "python",
      "name": "python3"
    },
    "language_info": {
      "codemirror_mode": {
        "name": "ipython",
        "version": 3
      },
      "file_extension": ".py",
      "mimetype": "text/x-python",
      "name": "python",
      "nbconvert_exporter": "python",
      "pygments_lexer": "ipython3",
      "version": "3.7.2"
    }
  },
  "cells": [
    {
      "cell_type": "markdown",
      "metadata": {
        "id": "view-in-github",
        "colab_type": "text"
      },
      "source": [
        "<a href=\"https://colab.research.google.com/github/rohinishimpatwar/The-NLP-News-Sentiment-Trading-Strategy/blob/master/EDA/Part2_EDA.ipynb\" target=\"_parent\"><img src=\"https://colab.research.google.com/assets/colab-badge.svg\" alt=\"Open In Colab\"/></a>"
      ]
    },
    {
      "cell_type": "markdown",
      "metadata": {
        "colab_type": "text",
        "id": "eClnkd_2y4bI"
      },
      "source": [
        "# Financial News Sentiment Analysis - Part2 - EDA"
      ]
    },
    {
      "cell_type": "markdown",
      "metadata": {
        "id": "ZX3jzJb7miIR",
        "colab_type": "text"
      },
      "source": [
        "__Requirements__:<br>\n",
        "*Packages*:\n",
        "    - pandas\n",
        "    - ensp numpy\n",
        "    - datetime\n",
        "    - nltk \n",
        "    - matplotlib\n",
        "    - collections\n",
        "    - wordcloud\n",
        "*Documents*:\n",
        "    - './dataset/raw_news_with_ic.csv’\n",
        "    - './dataset/clean_labeled_data.csv'"
      ]
    },
    {
      "cell_type": "code",
      "metadata": {
        "colab_type": "code",
        "id": "DEweW6N2y4bK",
        "scrolled": true,
        "colab": {}
      },
      "source": [
        "import pandas as pd \n",
        "import numpy as np"
      ],
      "execution_count": 0,
      "outputs": []
    },
    {
      "cell_type": "code",
      "metadata": {
        "colab_type": "code",
        "id": "KN1gpx8Uy4bN",
        "outputId": "01a9d481-3ad3-40e9-a720-f1780d1eb800",
        "colab": {}
      },
      "source": [
        "# read in labeled csv data\n",
        "news_df = pd.read_csv('dataset/raw_news_with_ic_40k.csv', usecols = ['Unnamed: 0','title','text','Company','Industry','published'])\n",
        "news_df.rename({'Unnamed: 0':'news_id'}, axis='columns', inplace=True)\n",
        "news_df.head()"
      ],
      "execution_count": 0,
      "outputs": [
        {
          "output_type": "execute_result",
          "data": {
            "text/html": [
              "<div>\n",
              "<style scoped>\n",
              "    .dataframe tbody tr th:only-of-type {\n",
              "        vertical-align: middle;\n",
              "    }\n",
              "\n",
              "    .dataframe tbody tr th {\n",
              "        vertical-align: top;\n",
              "    }\n",
              "\n",
              "    .dataframe thead th {\n",
              "        text-align: right;\n",
              "    }\n",
              "</style>\n",
              "<table border=\"1\" class=\"dataframe\">\n",
              "  <thead>\n",
              "    <tr style=\"text-align: right;\">\n",
              "      <th></th>\n",
              "      <th>news_id</th>\n",
              "      <th>published</th>\n",
              "      <th>title</th>\n",
              "      <th>text</th>\n",
              "      <th>Company</th>\n",
              "      <th>Industry</th>\n",
              "    </tr>\n",
              "  </thead>\n",
              "  <tbody>\n",
              "    <tr>\n",
              "      <th>0</th>\n",
              "      <td>0</td>\n",
              "      <td>2018-01-23T21:31:00.000+02:00</td>\n",
              "      <td>Hedge fund industry's stars are stumbling as s...</td>\n",
              "      <td>14 Mins Ago | 02:03 \\nIt's not easy being famo...</td>\n",
              "      <td>['General Electric', 'General Motors', '']</td>\n",
              "      <td>['Industrials', 'Consumer Discretionary']</td>\n",
              "    </tr>\n",
              "    <tr>\n",
              "      <th>1</th>\n",
              "      <td>6</td>\n",
              "      <td>2018-01-12T17:53:00.000+02:00</td>\n",
              "      <td>Trump sabotaged his triumphant week</td>\n",
              "      <td>This should have been a triumphant week for Pr...</td>\n",
              "      <td>['Walmart', '']</td>\n",
              "      <td>['Consumer Staples']</td>\n",
              "    </tr>\n",
              "    <tr>\n",
              "      <th>2</th>\n",
              "      <td>12</td>\n",
              "      <td>2018-01-29T01:54:00.000+02:00</td>\n",
              "      <td>Trump national security team sees building 5G ...</td>\n",
              "      <td>January 28, 2018 / 11:55 PM / in 2 hours Trump...</td>\n",
              "      <td>['AT&amp;T', 'Dish Network', 'T-Mobile US', '']</td>\n",
              "      <td>['Communication Services', 'Communication Serv...</td>\n",
              "    </tr>\n",
              "    <tr>\n",
              "      <th>3</th>\n",
              "      <td>15</td>\n",
              "      <td>2018-01-25T14:41:00.000+02:00</td>\n",
              "      <td>American Airlines fourth-quarter earnings top ...</td>\n",
              "      <td>American Airlines on Thursday posted better-th...</td>\n",
              "      <td>['Southwest Airlines', '']</td>\n",
              "      <td>['Industrials']</td>\n",
              "    </tr>\n",
              "    <tr>\n",
              "      <th>4</th>\n",
              "      <td>20</td>\n",
              "      <td>2018-01-12T14:30:00.000+02:00</td>\n",
              "      <td>BlackRock CEO Larry Fink: GOP tax law will do ...</td>\n",
              "      <td>BlackRock chief Larry Fink told CNBC on Friday...</td>\n",
              "      <td>['BlackRock', '']</td>\n",
              "      <td>['Financials']</td>\n",
              "    </tr>\n",
              "  </tbody>\n",
              "</table>\n",
              "</div>"
            ],
            "text/plain": [
              "   news_id                      published  \\\n",
              "0        0  2018-01-23T21:31:00.000+02:00   \n",
              "1        6  2018-01-12T17:53:00.000+02:00   \n",
              "2       12  2018-01-29T01:54:00.000+02:00   \n",
              "3       15  2018-01-25T14:41:00.000+02:00   \n",
              "4       20  2018-01-12T14:30:00.000+02:00   \n",
              "\n",
              "                                               title  \\\n",
              "0  Hedge fund industry's stars are stumbling as s...   \n",
              "1                Trump sabotaged his triumphant week   \n",
              "2  Trump national security team sees building 5G ...   \n",
              "3  American Airlines fourth-quarter earnings top ...   \n",
              "4  BlackRock CEO Larry Fink: GOP tax law will do ...   \n",
              "\n",
              "                                                text  \\\n",
              "0  14 Mins Ago | 02:03 \\nIt's not easy being famo...   \n",
              "1  This should have been a triumphant week for Pr...   \n",
              "2  January 28, 2018 / 11:55 PM / in 2 hours Trump...   \n",
              "3  American Airlines on Thursday posted better-th...   \n",
              "4  BlackRock chief Larry Fink told CNBC on Friday...   \n",
              "\n",
              "                                       Company  \\\n",
              "0   ['General Electric', 'General Motors', '']   \n",
              "1                              ['Walmart', '']   \n",
              "2  ['AT&T', 'Dish Network', 'T-Mobile US', '']   \n",
              "3                   ['Southwest Airlines', '']   \n",
              "4                            ['BlackRock', '']   \n",
              "\n",
              "                                            Industry  \n",
              "0          ['Industrials', 'Consumer Discretionary']  \n",
              "1                               ['Consumer Staples']  \n",
              "2  ['Communication Services', 'Communication Serv...  \n",
              "3                                    ['Industrials']  \n",
              "4                                     ['Financials']  "
            ]
          },
          "metadata": {
            "tags": []
          },
          "execution_count": 133
        }
      ]
    },
    {
      "cell_type": "code",
      "metadata": {
        "id": "YkLVpb8qmiIX",
        "colab_type": "code",
        "colab": {},
        "outputId": "3a946d70-209a-4ba2-863a-0d3f774dc71b"
      },
      "source": [
        "news_df.shape"
      ],
      "execution_count": 0,
      "outputs": [
        {
          "output_type": "execute_result",
          "data": {
            "text/plain": [
              "(39948, 6)"
            ]
          },
          "metadata": {
            "tags": []
          },
          "execution_count": 134
        }
      ]
    },
    {
      "cell_type": "markdown",
      "metadata": {
        "id": "j2bvHGQsmiIZ",
        "colab_type": "text"
      },
      "source": [
        "### 1 Number News Published  v.s. Date"
      ]
    },
    {
      "cell_type": "code",
      "metadata": {
        "id": "DYPJAcNmmiIa",
        "colab_type": "code",
        "colab": {},
        "outputId": "8e5ed5f0-f24e-4657-99f0-21f1e39f6516"
      },
      "source": [
        "news_df['publish_date'] = news_df.published.apply(lambda x:x[:10])\n",
        "news_df = news_df.sort_values(by='publish_date', ascending=True)\n",
        "news_df.groupby('publish_date')['title'].count().plot(kind='bar', figsize=(30,5), title = 'Number of News published by Date')"
      ],
      "execution_count": 0,
      "outputs": [
        {
          "output_type": "execute_result",
          "data": {
            "text/plain": [
              "<matplotlib.axes._subplots.AxesSubplot at 0x118a788d0>"
            ]
          },
          "metadata": {
            "tags": []
          },
          "execution_count": 5
        },
        {
          "output_type": "display_data",
          "data": {
            "image/png": "[encoded data removed]",
            "text/plain": [
              "<Figure size 2160x360 with 1 Axes>"
            ]
          },
          "metadata": {
            "tags": [],
            "needs_background": "light"
          }
        }
      ]
    },
    {
      "cell_type": "code",
      "metadata": {
        "id": "cUFisShomiIc",
        "colab_type": "code",
        "colab": {},
        "outputId": "b2695cde-1c3e-49bb-ee42-f91c896f5a9e"
      },
      "source": [
        "from datetime import datetime\n",
        "weekDays = (\"Monday\",\"Tuesday\",\"Wednesday\",\"Thursday\",\"Friday\",\"Saturday\",\"Sunday\")\n",
        "news_df['weekday'] = news_df.publish_date.apply(lambda x: weekDays[datetime.strptime(x, '%Y-%m-%d').weekday()])\n",
        "news_df.groupby('weekday')['title'].count().sort_values(ascending=False).plot(kind='bar', title='Number of News published on Weekddays')"
      ],
      "execution_count": 0,
      "outputs": [
        {
          "output_type": "execute_result",
          "data": {
            "text/plain": [
              "<matplotlib.axes._subplots.AxesSubplot at 0x11b1cf6d8>"
            ]
          },
          "metadata": {
            "tags": []
          },
          "execution_count": 6
        },
        {
          "output_type": "display_data",
          "data": {
            "image/png": "[encoded data removed]",
            "text/plain": [
              "<Figure size 432x288 with 1 Axes>"
            ]
          },
          "metadata": {
            "tags": [],
            "needs_background": "light"
          }
        }
      ]
    },
    {
      "cell_type": "markdown",
      "metadata": {
        "id": "ZEtPDJZvmiIe",
        "colab_type": "text"
      },
      "source": [
        "To do Analysis: "
      ]
    },
    {
      "cell_type": "markdown",
      "metadata": {
        "colab_type": "text",
        "id": "yEgaI5M-y4bS"
      },
      "source": [
        "### 2 Word Counts"
      ]
    },
    {
      "cell_type": "code",
      "metadata": {
        "colab_type": "code",
        "id": "u78tiiHvy4bT",
        "outputId": "9c008b38-6276-41e6-b9aa-91ed4abcbfc9",
        "colab": {}
      },
      "source": [
        "import nltk \n",
        "nltk.download('stopwords')"
      ],
      "execution_count": 0,
      "outputs": [
        {
          "output_type": "stream",
          "text": [
            "[nltk_data] Downloading package stopwords to\n",
            "[nltk_data]     /Users/i509324/nltk_data...\n",
            "[nltk_data]   Package stopwords is already up-to-date!\n"
          ],
          "name": "stderr"
        }
      ]
    },
    {
      "cell_type": "code",
      "metadata": {
        "colab_type": "code",
        "id": "Zul1ZpMiy4bV",
        "outputId": "5b403af6-a0f0-4c47-c133-55613d0b10e9",
        "colab": {}
      },
      "source": [
        "news_df['text_nwords'] = news_df['text'].apply(lambda x: len(nltk.word_tokenize(x)))\n",
        "news_df.sort_values(by='text_nwords', inplace=True)\n",
        "news_df.head()"
      ],
      "execution_count": 0,
      "outputs": [
        {
          "output_type": "execute_result",
          "data": {
            "text/html": [
              "<div>\n",
              "<style scoped>\n",
              "    .dataframe tbody tr th:only-of-type {\n",
              "        vertical-align: middle;\n",
              "    }\n",
              "\n",
              "    .dataframe tbody tr th {\n",
              "        vertical-align: top;\n",
              "    }\n",
              "\n",
              "    .dataframe thead th {\n",
              "        text-align: right;\n",
              "    }\n",
              "</style>\n",
              "<table border=\"1\" class=\"dataframe\">\n",
              "  <thead>\n",
              "    <tr style=\"text-align: right;\">\n",
              "      <th></th>\n",
              "      <th>news_id</th>\n",
              "      <th>published</th>\n",
              "      <th>title</th>\n",
              "      <th>text</th>\n",
              "      <th>Company</th>\n",
              "      <th>Industry</th>\n",
              "      <th>publish_date</th>\n",
              "      <th>weekday</th>\n",
              "      <th>text_nwords</th>\n",
              "    </tr>\n",
              "  </thead>\n",
              "  <tbody>\n",
              "    <tr>\n",
              "      <th>19913</th>\n",
              "      <td>149284</td>\n",
              "      <td>2018-03-15T20:16:00.000+02:00</td>\n",
              "      <td>Walmart drops on whistleblower lawsuit</td>\n",
              "      <td>Walmart drops on whistleblower lawsuit 1 Hour Ago</td>\n",
              "      <td>['Walmart', '']</td>\n",
              "      <td>['Consumer Staples']</td>\n",
              "      <td>2018-03-15</td>\n",
              "      <td>Thursday</td>\n",
              "      <td>8</td>\n",
              "    </tr>\n",
              "    <tr>\n",
              "      <th>6911</th>\n",
              "      <td>47507</td>\n",
              "      <td>2018-01-10T17:02:00.000+02:00</td>\n",
              "      <td>Berkshire Hathaway updates succession plan</td>\n",
              "      <td>Berkshire Hathaway updates succession plan 31 ...</td>\n",
              "      <td>['Berkshire Hathaway', '']</td>\n",
              "      <td>['Financials']</td>\n",
              "      <td>2018-01-10</td>\n",
              "      <td>Wednesday</td>\n",
              "      <td>8</td>\n",
              "    </tr>\n",
              "    <tr>\n",
              "      <th>13248</th>\n",
              "      <td>97643</td>\n",
              "      <td>2018-04-19T21:27:00.000+03:00</td>\n",
              "      <td>Lam Research CEO on earnings</td>\n",
              "      <td>Lam Research CEO on earnings 2 Hours Ago</td>\n",
              "      <td>['Lam Research', '']</td>\n",
              "      <td>['Information Technology']</td>\n",
              "      <td>2018-04-19</td>\n",
              "      <td>Thursday</td>\n",
              "      <td>8</td>\n",
              "    </tr>\n",
              "    <tr>\n",
              "      <th>15399</th>\n",
              "      <td>114135</td>\n",
              "      <td>2018-04-12T20:42:00.000+03:00</td>\n",
              "      <td>Nordstrom store for men opened Thursday</td>\n",
              "      <td>Nordstrom store for men opened Thursday 1 Hour...</td>\n",
              "      <td>['Nordstrom', '']</td>\n",
              "      <td>['Consumer Discretionary']</td>\n",
              "      <td>2018-04-12</td>\n",
              "      <td>Thursday</td>\n",
              "      <td>9</td>\n",
              "    </tr>\n",
              "    <tr>\n",
              "      <th>4508</th>\n",
              "      <td>28396</td>\n",
              "      <td>2018-01-11T21:58:00.000+02:00</td>\n",
              "      <td>Capital One Financial raises minimum wage</td>\n",
              "      <td>Capital One Financial raises minimum wage 1 Ho...</td>\n",
              "      <td>['Capital One Financial', '']</td>\n",
              "      <td>['Financials']</td>\n",
              "      <td>2018-01-11</td>\n",
              "      <td>Thursday</td>\n",
              "      <td>9</td>\n",
              "    </tr>\n",
              "  </tbody>\n",
              "</table>\n",
              "</div>"
            ],
            "text/plain": [
              "       news_id                      published  \\\n",
              "19913   149284  2018-03-15T20:16:00.000+02:00   \n",
              "6911     47507  2018-01-10T17:02:00.000+02:00   \n",
              "13248    97643  2018-04-19T21:27:00.000+03:00   \n",
              "15399   114135  2018-04-12T20:42:00.000+03:00   \n",
              "4508     28396  2018-01-11T21:58:00.000+02:00   \n",
              "\n",
              "                                            title  \\\n",
              "19913      Walmart drops on whistleblower lawsuit   \n",
              "6911   Berkshire Hathaway updates succession plan   \n",
              "13248                Lam Research CEO on earnings   \n",
              "15399     Nordstrom store for men opened Thursday   \n",
              "4508    Capital One Financial raises minimum wage   \n",
              "\n",
              "                                                    text  \\\n",
              "19913  Walmart drops on whistleblower lawsuit 1 Hour Ago   \n",
              "6911   Berkshire Hathaway updates succession plan 31 ...   \n",
              "13248           Lam Research CEO on earnings 2 Hours Ago   \n",
              "15399  Nordstrom store for men opened Thursday 1 Hour...   \n",
              "4508   Capital One Financial raises minimum wage 1 Ho...   \n",
              "\n",
              "                             Company                    Industry publish_date  \\\n",
              "19913                ['Walmart', '']        ['Consumer Staples']   2018-03-15   \n",
              "6911      ['Berkshire Hathaway', '']              ['Financials']   2018-01-10   \n",
              "13248           ['Lam Research', '']  ['Information Technology']   2018-04-19   \n",
              "15399              ['Nordstrom', '']  ['Consumer Discretionary']   2018-04-12   \n",
              "4508   ['Capital One Financial', '']              ['Financials']   2018-01-11   \n",
              "\n",
              "         weekday  text_nwords  \n",
              "19913   Thursday            8  \n",
              "6911   Wednesday            8  \n",
              "13248   Thursday            8  \n",
              "15399   Thursday            9  \n",
              "4508    Thursday            9  "
            ]
          },
          "metadata": {
            "tags": []
          },
          "execution_count": 8
        }
      ]
    },
    {
      "cell_type": "code",
      "metadata": {
        "colab_type": "code",
        "id": "Wp0ESqxQy4bY",
        "outputId": "30070c48-a51c-4885-8d51-cc402c3b4b16",
        "scrolled": true,
        "colab": {}
      },
      "source": [
        "import matplotlib.pyplot as plt\n",
        "plt.hist(news_df.text_nwords, bins=100)\n",
        "plt.xlabel('Number of Words in News')\n",
        "plt.ylabel('Counts of News')\n",
        "plt.show()"
      ],
      "execution_count": 0,
      "outputs": [
        {
          "output_type": "display_data",
          "data": {
            "image/png": "[encoded data removed]",
            "text/plain": [
              "<Figure size 432x288 with 1 Axes>"
            ]
          },
          "metadata": {
            "tags": [],
            "needs_background": "light"
          }
        }
      ]
    },
    {
      "cell_type": "code",
      "metadata": {
        "colab_type": "code",
        "id": "FX-koFboy4bb",
        "outputId": "8b633d9a-5bfb-4a11-ba5f-ab976c21f8c0",
        "colab": {}
      },
      "source": [
        "print(f'The longest news has {max(news_df.text_nwords)} words.')\n",
        "news_df.loc[news_df['text_nwords']==max(news_df.text_nwords)]"
      ],
      "execution_count": 0,
      "outputs": [
        {
          "output_type": "stream",
          "text": [
            "The longest news has 40325 words.\n"
          ],
          "name": "stdout"
        },
        {
          "output_type": "execute_result",
          "data": {
            "text/html": [
              "<div>\n",
              "<style scoped>\n",
              "    .dataframe tbody tr th:only-of-type {\n",
              "        vertical-align: middle;\n",
              "    }\n",
              "\n",
              "    .dataframe tbody tr th {\n",
              "        vertical-align: top;\n",
              "    }\n",
              "\n",
              "    .dataframe thead th {\n",
              "        text-align: right;\n",
              "    }\n",
              "</style>\n",
              "<table border=\"1\" class=\"dataframe\">\n",
              "  <thead>\n",
              "    <tr style=\"text-align: right;\">\n",
              "      <th></th>\n",
              "      <th>news_id</th>\n",
              "      <th>published</th>\n",
              "      <th>title</th>\n",
              "      <th>text</th>\n",
              "      <th>Company</th>\n",
              "      <th>Industry</th>\n",
              "      <th>publish_date</th>\n",
              "      <th>weekday</th>\n",
              "      <th>text_nwords</th>\n",
              "    </tr>\n",
              "  </thead>\n",
              "  <tbody>\n",
              "    <tr>\n",
              "      <th>31379</th>\n",
              "      <td>243685</td>\n",
              "      <td>2018-02-15T02:24:00.000+02:00</td>\n",
              "      <td>Agnico Eagle Reports Fourth Quarter and Full Y...</td>\n",
              "      <td>Stock Symbol: AEM (NYSE and TSX)\\n(All amounts...</td>\n",
              "      <td>['E*Trade', '']</td>\n",
              "      <td>['Financials']</td>\n",
              "      <td>2018-02-15</td>\n",
              "      <td>Thursday</td>\n",
              "      <td>40325</td>\n",
              "    </tr>\n",
              "  </tbody>\n",
              "</table>\n",
              "</div>"
            ],
            "text/plain": [
              "       news_id                      published  \\\n",
              "31379   243685  2018-02-15T02:24:00.000+02:00   \n",
              "\n",
              "                                                   title  \\\n",
              "31379  Agnico Eagle Reports Fourth Quarter and Full Y...   \n",
              "\n",
              "                                                    text          Company  \\\n",
              "31379  Stock Symbol: AEM (NYSE and TSX)\\n(All amounts...  ['E*Trade', '']   \n",
              "\n",
              "             Industry publish_date   weekday  text_nwords  \n",
              "31379  ['Financials']   2018-02-15  Thursday        40325  "
            ]
          },
          "metadata": {
            "tags": []
          },
          "execution_count": 10
        }
      ]
    },
    {
      "cell_type": "code",
      "metadata": {
        "colab_type": "code",
        "id": "sYQdDM-ny4be",
        "outputId": "e93e4870-b4ec-4e0e-cb52-01cfc8814501",
        "colab": {}
      },
      "source": [
        "print(f'The shortest news has {min(news_df.text_nwords)} words.')\n",
        "news_df.loc[news_df['text_nwords']==min(news_df.text_nwords)]"
      ],
      "execution_count": 0,
      "outputs": [
        {
          "output_type": "stream",
          "text": [
            "The shortest news has 8 words.\n"
          ],
          "name": "stdout"
        },
        {
          "output_type": "execute_result",
          "data": {
            "text/html": [
              "<div>\n",
              "<style scoped>\n",
              "    .dataframe tbody tr th:only-of-type {\n",
              "        vertical-align: middle;\n",
              "    }\n",
              "\n",
              "    .dataframe tbody tr th {\n",
              "        vertical-align: top;\n",
              "    }\n",
              "\n",
              "    .dataframe thead th {\n",
              "        text-align: right;\n",
              "    }\n",
              "</style>\n",
              "<table border=\"1\" class=\"dataframe\">\n",
              "  <thead>\n",
              "    <tr style=\"text-align: right;\">\n",
              "      <th></th>\n",
              "      <th>news_id</th>\n",
              "      <th>published</th>\n",
              "      <th>title</th>\n",
              "      <th>text</th>\n",
              "      <th>Company</th>\n",
              "      <th>Industry</th>\n",
              "      <th>publish_date</th>\n",
              "      <th>weekday</th>\n",
              "      <th>text_nwords</th>\n",
              "    </tr>\n",
              "  </thead>\n",
              "  <tbody>\n",
              "    <tr>\n",
              "      <th>19913</th>\n",
              "      <td>149284</td>\n",
              "      <td>2018-03-15T20:16:00.000+02:00</td>\n",
              "      <td>Walmart drops on whistleblower lawsuit</td>\n",
              "      <td>Walmart drops on whistleblower lawsuit 1 Hour Ago</td>\n",
              "      <td>['Walmart', '']</td>\n",
              "      <td>['Consumer Staples']</td>\n",
              "      <td>2018-03-15</td>\n",
              "      <td>Thursday</td>\n",
              "      <td>8</td>\n",
              "    </tr>\n",
              "    <tr>\n",
              "      <th>6911</th>\n",
              "      <td>47507</td>\n",
              "      <td>2018-01-10T17:02:00.000+02:00</td>\n",
              "      <td>Berkshire Hathaway updates succession plan</td>\n",
              "      <td>Berkshire Hathaway updates succession plan 31 ...</td>\n",
              "      <td>['Berkshire Hathaway', '']</td>\n",
              "      <td>['Financials']</td>\n",
              "      <td>2018-01-10</td>\n",
              "      <td>Wednesday</td>\n",
              "      <td>8</td>\n",
              "    </tr>\n",
              "    <tr>\n",
              "      <th>13248</th>\n",
              "      <td>97643</td>\n",
              "      <td>2018-04-19T21:27:00.000+03:00</td>\n",
              "      <td>Lam Research CEO on earnings</td>\n",
              "      <td>Lam Research CEO on earnings 2 Hours Ago</td>\n",
              "      <td>['Lam Research', '']</td>\n",
              "      <td>['Information Technology']</td>\n",
              "      <td>2018-04-19</td>\n",
              "      <td>Thursday</td>\n",
              "      <td>8</td>\n",
              "    </tr>\n",
              "  </tbody>\n",
              "</table>\n",
              "</div>"
            ],
            "text/plain": [
              "       news_id                      published  \\\n",
              "19913   149284  2018-03-15T20:16:00.000+02:00   \n",
              "6911     47507  2018-01-10T17:02:00.000+02:00   \n",
              "13248    97643  2018-04-19T21:27:00.000+03:00   \n",
              "\n",
              "                                            title  \\\n",
              "19913      Walmart drops on whistleblower lawsuit   \n",
              "6911   Berkshire Hathaway updates succession plan   \n",
              "13248                Lam Research CEO on earnings   \n",
              "\n",
              "                                                    text  \\\n",
              "19913  Walmart drops on whistleblower lawsuit 1 Hour Ago   \n",
              "6911   Berkshire Hathaway updates succession plan 31 ...   \n",
              "13248           Lam Research CEO on earnings 2 Hours Ago   \n",
              "\n",
              "                          Company                    Industry publish_date  \\\n",
              "19913             ['Walmart', '']        ['Consumer Staples']   2018-03-15   \n",
              "6911   ['Berkshire Hathaway', '']              ['Financials']   2018-01-10   \n",
              "13248        ['Lam Research', '']  ['Information Technology']   2018-04-19   \n",
              "\n",
              "         weekday  text_nwords  \n",
              "19913   Thursday            8  \n",
              "6911   Wednesday            8  \n",
              "13248   Thursday            8  "
            ]
          },
          "metadata": {
            "tags": []
          },
          "execution_count": 11
        }
      ]
    },
    {
      "cell_type": "markdown",
      "metadata": {
        "colab_type": "text",
        "id": "9ez0RhMFy4bh"
      },
      "source": [
        "As the range of counts are pretty large, we take log on x axis and see the distribution:"
      ]
    },
    {
      "cell_type": "code",
      "metadata": {
        "colab_type": "code",
        "id": "5oMR2mvly4bi",
        "outputId": "c78b8173-8619-4491-a0d9-6dac4f8eccf1",
        "colab": {}
      },
      "source": [
        "log_nwords = np.log(news_df['text_nwords'])\n",
        "plt.hist(log_nwords, bins=100)\n",
        "plt.xlabel('Natural logarithmic Number of Words in News')\n",
        "plt.ylabel('Counts of News')\n",
        "plt.show()"
      ],
      "execution_count": 0,
      "outputs": [
        {
          "output_type": "display_data",
          "data": {
            "image/png": "[encoded data removed]",
            "text/plain": [
              "<Figure size 432x288 with 1 Axes>"
            ]
          },
          "metadata": {
            "tags": [],
            "needs_background": "light"
          }
        }
      ]
    },
    {
      "cell_type": "markdown",
      "metadata": {
        "colab_type": "text",
        "id": "yiXnN-NBy4bl"
      },
      "source": [
        "The number of words in news texts is close to log-normal distribution."
      ]
    },
    {
      "cell_type": "markdown",
      "metadata": {
        "colab_type": "text",
        "id": "ZQ5Yvwswy4bm"
      },
      "source": [
        "### 3.1 Company and Industry Mentioned Most in News"
      ]
    },
    {
      "cell_type": "code",
      "metadata": {
        "colab_type": "code",
        "id": "Wqk_LmCvy4bn",
        "outputId": "a1eea97c-9e13-436d-c690-0e4fbb67856b",
        "colab": {}
      },
      "source": [
        "news_df['Company'] = news_df.Company.apply(lambda x: x.replace('[', '').replace(']','').replace(\"'\",'').split(', '))\n",
        "news_df['Industry'] = news_df.Industry.apply(lambda x: x.replace('[', '').replace(']','').replace(\"'\",'').split(', '))\n",
        "news_df.head()"
      ],
      "execution_count": 0,
      "outputs": [
        {
          "output_type": "execute_result",
          "data": {
            "text/html": [
              "<div>\n",
              "<style scoped>\n",
              "    .dataframe tbody tr th:only-of-type {\n",
              "        vertical-align: middle;\n",
              "    }\n",
              "\n",
              "    .dataframe tbody tr th {\n",
              "        vertical-align: top;\n",
              "    }\n",
              "\n",
              "    .dataframe thead th {\n",
              "        text-align: right;\n",
              "    }\n",
              "</style>\n",
              "<table border=\"1\" class=\"dataframe\">\n",
              "  <thead>\n",
              "    <tr style=\"text-align: right;\">\n",
              "      <th></th>\n",
              "      <th>news_id</th>\n",
              "      <th>published</th>\n",
              "      <th>title</th>\n",
              "      <th>text</th>\n",
              "      <th>Company</th>\n",
              "      <th>Industry</th>\n",
              "      <th>publish_date</th>\n",
              "      <th>weekday</th>\n",
              "      <th>text_nwords</th>\n",
              "    </tr>\n",
              "  </thead>\n",
              "  <tbody>\n",
              "    <tr>\n",
              "      <th>19913</th>\n",
              "      <td>149284</td>\n",
              "      <td>2018-03-15T20:16:00.000+02:00</td>\n",
              "      <td>Walmart drops on whistleblower lawsuit</td>\n",
              "      <td>Walmart drops on whistleblower lawsuit 1 Hour Ago</td>\n",
              "      <td>[Walmart, ]</td>\n",
              "      <td>[Consumer Staples]</td>\n",
              "      <td>2018-03-15</td>\n",
              "      <td>Thursday</td>\n",
              "      <td>8</td>\n",
              "    </tr>\n",
              "    <tr>\n",
              "      <th>6911</th>\n",
              "      <td>47507</td>\n",
              "      <td>2018-01-10T17:02:00.000+02:00</td>\n",
              "      <td>Berkshire Hathaway updates succession plan</td>\n",
              "      <td>Berkshire Hathaway updates succession plan 31 ...</td>\n",
              "      <td>[Berkshire Hathaway, ]</td>\n",
              "      <td>[Financials]</td>\n",
              "      <td>2018-01-10</td>\n",
              "      <td>Wednesday</td>\n",
              "      <td>8</td>\n",
              "    </tr>\n",
              "    <tr>\n",
              "      <th>13248</th>\n",
              "      <td>97643</td>\n",
              "      <td>2018-04-19T21:27:00.000+03:00</td>\n",
              "      <td>Lam Research CEO on earnings</td>\n",
              "      <td>Lam Research CEO on earnings 2 Hours Ago</td>\n",
              "      <td>[Lam Research, ]</td>\n",
              "      <td>[Information Technology]</td>\n",
              "      <td>2018-04-19</td>\n",
              "      <td>Thursday</td>\n",
              "      <td>8</td>\n",
              "    </tr>\n",
              "    <tr>\n",
              "      <th>15399</th>\n",
              "      <td>114135</td>\n",
              "      <td>2018-04-12T20:42:00.000+03:00</td>\n",
              "      <td>Nordstrom store for men opened Thursday</td>\n",
              "      <td>Nordstrom store for men opened Thursday 1 Hour...</td>\n",
              "      <td>[Nordstrom, ]</td>\n",
              "      <td>[Consumer Discretionary]</td>\n",
              "      <td>2018-04-12</td>\n",
              "      <td>Thursday</td>\n",
              "      <td>9</td>\n",
              "    </tr>\n",
              "    <tr>\n",
              "      <th>4508</th>\n",
              "      <td>28396</td>\n",
              "      <td>2018-01-11T21:58:00.000+02:00</td>\n",
              "      <td>Capital One Financial raises minimum wage</td>\n",
              "      <td>Capital One Financial raises minimum wage 1 Ho...</td>\n",
              "      <td>[Capital One Financial, ]</td>\n",
              "      <td>[Financials]</td>\n",
              "      <td>2018-01-11</td>\n",
              "      <td>Thursday</td>\n",
              "      <td>9</td>\n",
              "    </tr>\n",
              "  </tbody>\n",
              "</table>\n",
              "</div>"
            ],
            "text/plain": [
              "       news_id                      published  \\\n",
              "19913   149284  2018-03-15T20:16:00.000+02:00   \n",
              "6911     47507  2018-01-10T17:02:00.000+02:00   \n",
              "13248    97643  2018-04-19T21:27:00.000+03:00   \n",
              "15399   114135  2018-04-12T20:42:00.000+03:00   \n",
              "4508     28396  2018-01-11T21:58:00.000+02:00   \n",
              "\n",
              "                                            title  \\\n",
              "19913      Walmart drops on whistleblower lawsuit   \n",
              "6911   Berkshire Hathaway updates succession plan   \n",
              "13248                Lam Research CEO on earnings   \n",
              "15399     Nordstrom store for men opened Thursday   \n",
              "4508    Capital One Financial raises minimum wage   \n",
              "\n",
              "                                                    text  \\\n",
              "19913  Walmart drops on whistleblower lawsuit 1 Hour Ago   \n",
              "6911   Berkshire Hathaway updates succession plan 31 ...   \n",
              "13248           Lam Research CEO on earnings 2 Hours Ago   \n",
              "15399  Nordstrom store for men opened Thursday 1 Hour...   \n",
              "4508   Capital One Financial raises minimum wage 1 Ho...   \n",
              "\n",
              "                         Company                  Industry publish_date  \\\n",
              "19913                [Walmart, ]        [Consumer Staples]   2018-03-15   \n",
              "6911      [Berkshire Hathaway, ]              [Financials]   2018-01-10   \n",
              "13248           [Lam Research, ]  [Information Technology]   2018-04-19   \n",
              "15399              [Nordstrom, ]  [Consumer Discretionary]   2018-04-12   \n",
              "4508   [Capital One Financial, ]              [Financials]   2018-01-11   \n",
              "\n",
              "         weekday  text_nwords  \n",
              "19913   Thursday            8  \n",
              "6911   Wednesday            8  \n",
              "13248   Thursday            8  \n",
              "15399   Thursday            9  \n",
              "4508    Thursday            9  "
            ]
          },
          "metadata": {
            "tags": []
          },
          "execution_count": 13
        }
      ]
    },
    {
      "cell_type": "code",
      "metadata": {
        "colab_type": "code",
        "id": "rFp6fTv_y4bp",
        "outputId": "352026e7-f8df-430d-90cb-9ac2ef42e379",
        "colab": {}
      },
      "source": [
        "from collections import Counter\n",
        "\n",
        "company_list = [c for sublist in news_df.Company.tolist() for c in sublist if c!='']\n",
        "company_counter = Counter(company_list).most_common()[:20]\n",
        "print(f'{len(set(company_list))} companies are mentioned in news, top 20 are:')\n",
        "for p in company_counter:\n",
        "    c,f = p\n",
        "    print(c,f)\n",
        "df = pd.DataFrame(data=company_counter, columns=['Company','count'])\n",
        "df.groupby('Company').sum()['count'].sort_values(ascending=False).plot(kind='bar', title='Top 20 Companies Mentioned in News')"
      ],
      "execution_count": 0,
      "outputs": [
        {
          "output_type": "stream",
          "text": [
            "456 companies are mentioned in news, top 20 are:\n",
            "E*Trade 10125\n",
            "Morgan Stanley 2627\n",
            "Wells Fargo 1932\n",
            "Walmart 1874\n",
            "General Motors 1523\n",
            "AT&T 1483\n",
            "Amazon.com Inc. 1482\n",
            "Apple Inc. 1407\n",
            "General Electric 1161\n",
            "Berkshire Hathaway 1013\n",
            "BlackRock 714\n",
            "Johnson & Johnson 652\n",
            "Microsoft Corp. 598\n",
            "JPMorgan Chase & Co. 543\n",
            "Nike 529\n",
            "Procter & Gamble 468\n",
            "Intel Corp. 455\n",
            "Goldman Sachs Group 421\n",
            "Xerox 401\n",
            "PayPal 387\n"
          ],
          "name": "stdout"
        },
        {
          "output_type": "execute_result",
          "data": {
            "text/plain": [
              "<matplotlib.axes._subplots.AxesSubplot at 0x1315e44a8>"
            ]
          },
          "metadata": {
            "tags": []
          },
          "execution_count": 14
        },
        {
          "output_type": "display_data",
          "data": {
            "image/png": "[encoded data removed]",
            "text/plain": [
              "<Figure size 432x288 with 1 Axes>"
            ]
          },
          "metadata": {
            "tags": [],
            "needs_background": "light"
          }
        }
      ]
    },
    {
      "cell_type": "code",
      "metadata": {
        "colab_type": "code",
        "id": "dJSkDo2ty4bt",
        "outputId": "f08b74bf-6531-4047-84b8-2d020daa214e",
        "scrolled": false,
        "colab": {}
      },
      "source": [
        "industry_list = [c for sublist in news_df.Industry.tolist() for c in sublist if c!='']\n",
        "industry_counter = Counter(industry_list).most_common()\n",
        "print(f'{len(industry_counter)} industries are mentioned in news: ')\n",
        "for p in industry_counter:\n",
        "    c,f = p\n",
        "    print(c,f)\n",
        "df = pd.DataFrame(data=industry_counter, columns=['Company','count'])\n",
        "df.groupby('Company').sum()['count'].sort_values(ascending=False).plot(kind='bar', title='Industries Mentioned in News')"
      ],
      "execution_count": 0,
      "outputs": [
        {
          "output_type": "stream",
          "text": [
            "11 industries are mentioned in news: \n",
            "Financials 20194\n",
            "Consumer Discretionary 6680\n",
            "Information Technology 6232\n",
            "Consumer Staples 4250\n",
            "Industrials 4209\n",
            "Health Care 4192\n",
            "Communication Services 3474\n",
            "Energy 2104\n",
            "Utilities 1030\n",
            "Materials 707\n",
            "Real Estate 643\n"
          ],
          "name": "stdout"
        },
        {
          "output_type": "execute_result",
          "data": {
            "text/plain": [
              "<matplotlib.axes._subplots.AxesSubplot at 0x11b0f31d0>"
            ]
          },
          "metadata": {
            "tags": []
          },
          "execution_count": 15
        },
        {
          "output_type": "display_data",
          "data": {
            "image/png": "[encoded data removed]",
            "text/plain": [
              "<Figure size 432x288 with 1 Axes>"
            ]
          },
          "metadata": {
            "tags": [],
            "needs_background": "light"
          }
        }
      ]
    },
    {
      "cell_type": "markdown",
      "metadata": {
        "id": "HWciKQZtmiI1",
        "colab_type": "text"
      },
      "source": [
        "Seems that the __*Financials*__ companies are must more oftenly mentioned than companies in other indusries. This is likely because of the __*noise*__ in the news - often times a financial company like ETrade or Morgan Stantely appear in a piece of news because they are providing some analysis/opinions on some other matters like the macroeconomy. Hence the piece of news is actually about something else intead of the comany. We therefore look at the top industries and companies __*exluding the financial companies*__. "
      ]
    },
    {
      "cell_type": "markdown",
      "metadata": {
        "colab_type": "text",
        "id": "p5VqwaaPy4bv"
      },
      "source": [
        "### 3.2 Top companies and industries excluding the financial industry"
      ]
    },
    {
      "cell_type": "code",
      "metadata": {
        "id": "rXs-TwrzmiI2",
        "colab_type": "code",
        "colab": {},
        "outputId": "f81c64c2-47f7-4d50-d0d3-28eab0652aed"
      },
      "source": [
        "comp_industry = pd.read_csv('dataset/sp500companies_industry.csv')\n",
        "comp_industry = comp_industry[[ 'Security', 'GICS Sector']]\n",
        "\n",
        "names = np.array(comp_industry.Security)\n",
        "sector = np.array(comp_industry['GICS Sector'])\n",
        "\n",
        "fin_comp_list = []\n",
        "index_list = []\n",
        "for i in range(len(sector)):\n",
        "    if sector[i] == 'Financials':\n",
        "        index_list.append(i)\n",
        "\n",
        "fin_comp_list = set(names[index_list])\n",
        "\n",
        "company_list = [c for sublist in news_df.Company.tolist() for c in sublist if c!='']\n",
        "\n",
        "company_list_exclude_fin = [c for c in company_list if not c in fin_comp_list]\n",
        "company_counter = Counter(company_list_exclude_fin).most_common()[:20]\n",
        "print(f'{len(set(company_list))} companies are mentioned in news, top 20 are:')\n",
        "for p in company_counter:\n",
        "    c,f = p\n",
        "    print(c,f)\n",
        "df = pd.DataFrame(data=company_counter, columns=['Company','count'])\n",
        "df.groupby('Company').sum()['count'].sort_values(ascending=False).plot(kind='bar', title='Top 20 Companies Mentioned in News')"
      ],
      "execution_count": 0,
      "outputs": [
        {
          "output_type": "stream",
          "text": [
            "456 companies are mentioned in news, top 20 are:\n",
            "Walmart 1874\n",
            "General Motors 1523\n",
            "AT&T 1483\n",
            "Amazon.com Inc. 1482\n",
            "Apple Inc. 1407\n",
            "General Electric 1161\n",
            "Johnson & Johnson 652\n",
            "Microsoft Corp. 598\n",
            "Nike 529\n",
            "Procter & Gamble 468\n",
            "Intel Corp. 455\n",
            "Xerox 401\n",
            "PayPal 387\n",
            "Comcast Corp. 385\n",
            "Netflix Inc. 365\n",
            "Broadridge Financial Solutions 363\n",
            "Home Depot 360\n",
            "Southwest Airlines 339\n",
            "CVS Health 333\n",
            "Exxon Mobil Corp. 314\n"
          ],
          "name": "stdout"
        },
        {
          "output_type": "execute_result",
          "data": {
            "text/plain": [
              "<matplotlib.axes._subplots.AxesSubplot at 0x131b08240>"
            ]
          },
          "metadata": {
            "tags": []
          },
          "execution_count": 16
        },
        {
          "output_type": "display_data",
          "data": {
            "image/png": "[encoded data removed]",
            "text/plain": [
              "<Figure size 432x288 with 1 Axes>"
            ]
          },
          "metadata": {
            "tags": [],
            "needs_background": "light"
          }
        }
      ]
    },
    {
      "cell_type": "code",
      "metadata": {
        "scrolled": true,
        "id": "rVZDKY5TmiI5",
        "colab_type": "code",
        "colab": {},
        "outputId": "15cfecb9-2a7e-4df5-b789-854c0878ec7c"
      },
      "source": [
        "industry_list = [c for sublist in news_df['Industry'].tolist() for c in sublist if c!='']\n",
        "industry_list_exclude_fin = [c for c in industry_list if c != 'Financials']\n",
        "industry_counter = Counter(industry_list_exclude_fin).most_common()\n",
        "print(f'{len(industry_counter)} industries are mentioned in news: ')\n",
        "for p in industry_counter:\n",
        "    c,f = p\n",
        "    print(c,f)\n",
        "df = pd.DataFrame(data=industry_counter, columns=['Company','count'])\n",
        "df.groupby('Company').sum()['count'].sort_values(ascending=False).plot(kind='bar', title='Industries Mentioned in News')"
      ],
      "execution_count": 0,
      "outputs": [
        {
          "output_type": "stream",
          "text": [
            "10 industries are mentioned in news: \n",
            "Consumer Discretionary 6680\n",
            "Information Technology 6232\n",
            "Consumer Staples 4250\n",
            "Industrials 4209\n",
            "Health Care 4192\n",
            "Communication Services 3474\n",
            "Energy 2104\n",
            "Utilities 1030\n",
            "Materials 707\n",
            "Real Estate 643\n"
          ],
          "name": "stdout"
        },
        {
          "output_type": "execute_result",
          "data": {
            "text/plain": [
              "<matplotlib.axes._subplots.AxesSubplot at 0x122bf6dd8>"
            ]
          },
          "metadata": {
            "tags": []
          },
          "execution_count": 17
        },
        {
          "output_type": "display_data",
          "data": {
            "image/png": "[encoded data removed]",
            "text/plain": [
              "<Figure size 432x288 with 1 Axes>"
            ]
          },
          "metadata": {
            "tags": [],
            "needs_background": "light"
          }
        }
      ]
    },
    {
      "cell_type": "markdown",
      "metadata": {
        "colab_type": "text",
        "id": "RQOoHWQKy4b7"
      },
      "source": [
        "#### Pre - processing : Remove stopwords (some of the stopwords include specially charactors, so I first remove stopwords before removing digital numbers and special characters"
      ]
    },
    {
      "cell_type": "code",
      "metadata": {
        "id": "5iWC1KLBmiI7",
        "colab_type": "code",
        "colab": {},
        "outputId": "4f1be621-41a2-4432-b4b5-7473f997bd78"
      },
      "source": [
        "import re\n",
        "import string\n",
        "\n",
        "def clean_text(text):\n",
        "    text_word =re.sub('\\W+', ' ', text)\n",
        "    # remove numbers\n",
        "    text_nonum = re.sub(r'\\d+', '', text_word)\n",
        "    # remove punctuations and convert characters to lower case\n",
        "    text_nopunct = \"\".join([char.lower() for char in text_nonum if char not in string.punctuation]) \n",
        "    # substitute multiple whitespace with single whitespace\n",
        "    # Also, removes leading and trailing whitespaces\n",
        "    text_no_doublespace = re.sub('\\s+', ' ', text_nopunct).strip()\n",
        "    return text_no_doublespace\n",
        "\n",
        "news_df['text_cleaned'] = news_df['text'].apply(lambda x: clean_text(x))\n",
        "news_df.head()"
      ],
      "execution_count": 0,
      "outputs": [
        {
          "output_type": "execute_result",
          "data": {
            "text/html": [
              "<div>\n",
              "<style scoped>\n",
              "    .dataframe tbody tr th:only-of-type {\n",
              "        vertical-align: middle;\n",
              "    }\n",
              "\n",
              "    .dataframe tbody tr th {\n",
              "        vertical-align: top;\n",
              "    }\n",
              "\n",
              "    .dataframe thead th {\n",
              "        text-align: right;\n",
              "    }\n",
              "</style>\n",
              "<table border=\"1\" class=\"dataframe\">\n",
              "  <thead>\n",
              "    <tr style=\"text-align: right;\">\n",
              "      <th></th>\n",
              "      <th>news_id</th>\n",
              "      <th>published</th>\n",
              "      <th>title</th>\n",
              "      <th>text</th>\n",
              "      <th>Company</th>\n",
              "      <th>Industry</th>\n",
              "      <th>publish_date</th>\n",
              "      <th>weekday</th>\n",
              "      <th>text_nwords</th>\n",
              "      <th>text_cleaned</th>\n",
              "    </tr>\n",
              "  </thead>\n",
              "  <tbody>\n",
              "    <tr>\n",
              "      <th>19913</th>\n",
              "      <td>149284</td>\n",
              "      <td>2018-03-15T20:16:00.000+02:00</td>\n",
              "      <td>Walmart drops on whistleblower lawsuit</td>\n",
              "      <td>Walmart drops on whistleblower lawsuit 1 Hour Ago</td>\n",
              "      <td>[Walmart, ]</td>\n",
              "      <td>[Consumer Staples]</td>\n",
              "      <td>2018-03-15</td>\n",
              "      <td>Thursday</td>\n",
              "      <td>8</td>\n",
              "      <td>walmart drops on whistleblower lawsuit hour ago</td>\n",
              "    </tr>\n",
              "    <tr>\n",
              "      <th>6911</th>\n",
              "      <td>47507</td>\n",
              "      <td>2018-01-10T17:02:00.000+02:00</td>\n",
              "      <td>Berkshire Hathaway updates succession plan</td>\n",
              "      <td>Berkshire Hathaway updates succession plan 31 ...</td>\n",
              "      <td>[Berkshire Hathaway, ]</td>\n",
              "      <td>[Financials]</td>\n",
              "      <td>2018-01-10</td>\n",
              "      <td>Wednesday</td>\n",
              "      <td>8</td>\n",
              "      <td>berkshire hathaway updates succession plan min...</td>\n",
              "    </tr>\n",
              "    <tr>\n",
              "      <th>13248</th>\n",
              "      <td>97643</td>\n",
              "      <td>2018-04-19T21:27:00.000+03:00</td>\n",
              "      <td>Lam Research CEO on earnings</td>\n",
              "      <td>Lam Research CEO on earnings 2 Hours Ago</td>\n",
              "      <td>[Lam Research, ]</td>\n",
              "      <td>[Information Technology]</td>\n",
              "      <td>2018-04-19</td>\n",
              "      <td>Thursday</td>\n",
              "      <td>8</td>\n",
              "      <td>lam research ceo on earnings hours ago</td>\n",
              "    </tr>\n",
              "    <tr>\n",
              "      <th>15399</th>\n",
              "      <td>114135</td>\n",
              "      <td>2018-04-12T20:42:00.000+03:00</td>\n",
              "      <td>Nordstrom store for men opened Thursday</td>\n",
              "      <td>Nordstrom store for men opened Thursday 1 Hour...</td>\n",
              "      <td>[Nordstrom, ]</td>\n",
              "      <td>[Consumer Discretionary]</td>\n",
              "      <td>2018-04-12</td>\n",
              "      <td>Thursday</td>\n",
              "      <td>9</td>\n",
              "      <td>nordstrom store for men opened thursday hour ago</td>\n",
              "    </tr>\n",
              "    <tr>\n",
              "      <th>4508</th>\n",
              "      <td>28396</td>\n",
              "      <td>2018-01-11T21:58:00.000+02:00</td>\n",
              "      <td>Capital One Financial raises minimum wage</td>\n",
              "      <td>Capital One Financial raises minimum wage 1 Ho...</td>\n",
              "      <td>[Capital One Financial, ]</td>\n",
              "      <td>[Financials]</td>\n",
              "      <td>2018-01-11</td>\n",
              "      <td>Thursday</td>\n",
              "      <td>9</td>\n",
              "      <td>capital one financial raises minimum wage hour...</td>\n",
              "    </tr>\n",
              "  </tbody>\n",
              "</table>\n",
              "</div>"
            ],
            "text/plain": [
              "       news_id                      published  \\\n",
              "19913   149284  2018-03-15T20:16:00.000+02:00   \n",
              "6911     47507  2018-01-10T17:02:00.000+02:00   \n",
              "13248    97643  2018-04-19T21:27:00.000+03:00   \n",
              "15399   114135  2018-04-12T20:42:00.000+03:00   \n",
              "4508     28396  2018-01-11T21:58:00.000+02:00   \n",
              "\n",
              "                                            title  \\\n",
              "19913      Walmart drops on whistleblower lawsuit   \n",
              "6911   Berkshire Hathaway updates succession plan   \n",
              "13248                Lam Research CEO on earnings   \n",
              "15399     Nordstrom store for men opened Thursday   \n",
              "4508    Capital One Financial raises minimum wage   \n",
              "\n",
              "                                                    text  \\\n",
              "19913  Walmart drops on whistleblower lawsuit 1 Hour Ago   \n",
              "6911   Berkshire Hathaway updates succession plan 31 ...   \n",
              "13248           Lam Research CEO on earnings 2 Hours Ago   \n",
              "15399  Nordstrom store for men opened Thursday 1 Hour...   \n",
              "4508   Capital One Financial raises minimum wage 1 Ho...   \n",
              "\n",
              "                         Company                  Industry publish_date  \\\n",
              "19913                [Walmart, ]        [Consumer Staples]   2018-03-15   \n",
              "6911      [Berkshire Hathaway, ]              [Financials]   2018-01-10   \n",
              "13248           [Lam Research, ]  [Information Technology]   2018-04-19   \n",
              "15399              [Nordstrom, ]  [Consumer Discretionary]   2018-04-12   \n",
              "4508   [Capital One Financial, ]              [Financials]   2018-01-11   \n",
              "\n",
              "         weekday  text_nwords  \\\n",
              "19913   Thursday            8   \n",
              "6911   Wednesday            8   \n",
              "13248   Thursday            8   \n",
              "15399   Thursday            9   \n",
              "4508    Thursday            9   \n",
              "\n",
              "                                            text_cleaned  \n",
              "19913    walmart drops on whistleblower lawsuit hour ago  \n",
              "6911   berkshire hathaway updates succession plan min...  \n",
              "13248             lam research ceo on earnings hours ago  \n",
              "15399   nordstrom store for men opened thursday hour ago  \n",
              "4508   capital one financial raises minimum wage hour...  "
            ]
          },
          "metadata": {
            "tags": []
          },
          "execution_count": 18
        }
      ]
    },
    {
      "cell_type": "code",
      "metadata": {
        "id": "Rzrz0g84miI8",
        "colab_type": "code",
        "colab": {}
      },
      "source": [
        "# stopword list\n",
        "\n",
        "f = open('dataset/StopWords_GenericLong.txt', 'r')\n",
        "wordlist1 = f.read()\n",
        "wordlist1 = wordlist1.lower().split()\n",
        "f.close()\n",
        "\n",
        "f = open('dataset/StopWords_DatesandNumbers.txt', 'r')\n",
        "wordlist2 = f.read()\n",
        "wordlist2 = wordlist2.lower().split()\n",
        "f.close()\n",
        "\n",
        "with open('dataset/StopWords_Geographic.txt', 'r') as f: \n",
        "    wordlist3 = f.read()\n",
        "    wordlist3 = wordlist3.lower().split()\n",
        "    \n",
        "f = open('dataset/StopWords_Names.txt', 'r')\n",
        "wordlist4 = f.read()\n",
        "wordlist4 = wordlist4.lower().split()\n",
        "f.close()\n",
        "\n",
        "\n",
        "additional_stop_words = ['months', 'years', 'www', 'http', 'prnewswire', 'businesswire', 'https', 'en']\n",
        "\n",
        "stop_word_list = wordlist1 + wordlist2 + wordlist3 + wordlist4 + additional_stop_words\n",
        "stop_word_list = [word.strip() for word in stop_word_list]\n",
        "stop_word_set = set(stop_word_list)"
      ],
      "execution_count": 0,
      "outputs": []
    },
    {
      "cell_type": "code",
      "metadata": {
        "colab_type": "code",
        "id": "9cADBFC_y4b8",
        "outputId": "285f02d2-feab-4e63-a289-5d62f616832e",
        "colab": {}
      },
      "source": [
        "def remove_noise_words(text, words_to_remove):\n",
        "    text_list = text.split(\" \")\n",
        "    good_list = [w.strip() for w in text_list if not w.strip() in words_to_remove]\n",
        "    return ' '.join(good_list)\n",
        "\n",
        "news_df['text_no_stopwords'] = news_df['text_cleaned'].apply(lambda x : remove_noise_words(x, stop_word_set))\n",
        "news_df['text_nsw_nwords'] = news_df['text_no_stopwords'].apply(lambda x: len(nltk.word_tokenize(x)))\n",
        "news_df.sort_values(by='text_nsw_nwords', inplace=True)\n",
        "news_df.head()"
      ],
      "execution_count": 0,
      "outputs": [
        {
          "output_type": "execute_result",
          "data": {
            "text/html": [
              "<div>\n",
              "<style scoped>\n",
              "    .dataframe tbody tr th:only-of-type {\n",
              "        vertical-align: middle;\n",
              "    }\n",
              "\n",
              "    .dataframe tbody tr th {\n",
              "        vertical-align: top;\n",
              "    }\n",
              "\n",
              "    .dataframe thead th {\n",
              "        text-align: right;\n",
              "    }\n",
              "</style>\n",
              "<table border=\"1\" class=\"dataframe\">\n",
              "  <thead>\n",
              "    <tr style=\"text-align: right;\">\n",
              "      <th></th>\n",
              "      <th>news_id</th>\n",
              "      <th>published</th>\n",
              "      <th>title</th>\n",
              "      <th>text</th>\n",
              "      <th>Company</th>\n",
              "      <th>Industry</th>\n",
              "      <th>publish_date</th>\n",
              "      <th>weekday</th>\n",
              "      <th>text_nwords</th>\n",
              "      <th>text_cleaned</th>\n",
              "      <th>text_no_stopwords</th>\n",
              "    </tr>\n",
              "  </thead>\n",
              "  <tbody>\n",
              "    <tr>\n",
              "      <th>19913</th>\n",
              "      <td>149284</td>\n",
              "      <td>2018-03-15T20:16:00.000+02:00</td>\n",
              "      <td>Walmart drops on whistleblower lawsuit</td>\n",
              "      <td>Walmart drops on whistleblower lawsuit 1 Hour Ago</td>\n",
              "      <td>[Walmart, ]</td>\n",
              "      <td>[Consumer Staples]</td>\n",
              "      <td>2018-03-15</td>\n",
              "      <td>Thursday</td>\n",
              "      <td>8</td>\n",
              "      <td>walmart drops on whistleblower lawsuit hour ago</td>\n",
              "      <td>walmart drops whistleblower lawsuit hour ago</td>\n",
              "    </tr>\n",
              "    <tr>\n",
              "      <th>6911</th>\n",
              "      <td>47507</td>\n",
              "      <td>2018-01-10T17:02:00.000+02:00</td>\n",
              "      <td>Berkshire Hathaway updates succession plan</td>\n",
              "      <td>Berkshire Hathaway updates succession plan 31 ...</td>\n",
              "      <td>[Berkshire Hathaway, ]</td>\n",
              "      <td>[Financials]</td>\n",
              "      <td>2018-01-10</td>\n",
              "      <td>Wednesday</td>\n",
              "      <td>8</td>\n",
              "      <td>berkshire hathaway updates succession plan min...</td>\n",
              "      <td>berkshire updates succession plan mins ago</td>\n",
              "    </tr>\n",
              "    <tr>\n",
              "      <th>13248</th>\n",
              "      <td>97643</td>\n",
              "      <td>2018-04-19T21:27:00.000+03:00</td>\n",
              "      <td>Lam Research CEO on earnings</td>\n",
              "      <td>Lam Research CEO on earnings 2 Hours Ago</td>\n",
              "      <td>[Lam Research, ]</td>\n",
              "      <td>[Information Technology]</td>\n",
              "      <td>2018-04-19</td>\n",
              "      <td>Thursday</td>\n",
              "      <td>8</td>\n",
              "      <td>lam research ceo on earnings hours ago</td>\n",
              "      <td>research ceo earnings hours ago</td>\n",
              "    </tr>\n",
              "    <tr>\n",
              "      <th>15399</th>\n",
              "      <td>114135</td>\n",
              "      <td>2018-04-12T20:42:00.000+03:00</td>\n",
              "      <td>Nordstrom store for men opened Thursday</td>\n",
              "      <td>Nordstrom store for men opened Thursday 1 Hour...</td>\n",
              "      <td>[Nordstrom, ]</td>\n",
              "      <td>[Consumer Discretionary]</td>\n",
              "      <td>2018-04-12</td>\n",
              "      <td>Thursday</td>\n",
              "      <td>9</td>\n",
              "      <td>nordstrom store for men opened thursday hour ago</td>\n",
              "      <td>store men opened hour ago</td>\n",
              "    </tr>\n",
              "    <tr>\n",
              "      <th>4508</th>\n",
              "      <td>28396</td>\n",
              "      <td>2018-01-11T21:58:00.000+02:00</td>\n",
              "      <td>Capital One Financial raises minimum wage</td>\n",
              "      <td>Capital One Financial raises minimum wage 1 Ho...</td>\n",
              "      <td>[Capital One Financial, ]</td>\n",
              "      <td>[Financials]</td>\n",
              "      <td>2018-01-11</td>\n",
              "      <td>Thursday</td>\n",
              "      <td>9</td>\n",
              "      <td>capital one financial raises minimum wage hour...</td>\n",
              "      <td>capital financial raises minimum wage hour ago</td>\n",
              "    </tr>\n",
              "  </tbody>\n",
              "</table>\n",
              "</div>"
            ],
            "text/plain": [
              "       news_id                      published  \\\n",
              "19913   149284  2018-03-15T20:16:00.000+02:00   \n",
              "6911     47507  2018-01-10T17:02:00.000+02:00   \n",
              "13248    97643  2018-04-19T21:27:00.000+03:00   \n",
              "15399   114135  2018-04-12T20:42:00.000+03:00   \n",
              "4508     28396  2018-01-11T21:58:00.000+02:00   \n",
              "\n",
              "                                            title  \\\n",
              "19913      Walmart drops on whistleblower lawsuit   \n",
              "6911   Berkshire Hathaway updates succession plan   \n",
              "13248                Lam Research CEO on earnings   \n",
              "15399     Nordstrom store for men opened Thursday   \n",
              "4508    Capital One Financial raises minimum wage   \n",
              "\n",
              "                                                    text  \\\n",
              "19913  Walmart drops on whistleblower lawsuit 1 Hour Ago   \n",
              "6911   Berkshire Hathaway updates succession plan 31 ...   \n",
              "13248           Lam Research CEO on earnings 2 Hours Ago   \n",
              "15399  Nordstrom store for men opened Thursday 1 Hour...   \n",
              "4508   Capital One Financial raises minimum wage 1 Ho...   \n",
              "\n",
              "                         Company                  Industry publish_date  \\\n",
              "19913                [Walmart, ]        [Consumer Staples]   2018-03-15   \n",
              "6911      [Berkshire Hathaway, ]              [Financials]   2018-01-10   \n",
              "13248           [Lam Research, ]  [Information Technology]   2018-04-19   \n",
              "15399              [Nordstrom, ]  [Consumer Discretionary]   2018-04-12   \n",
              "4508   [Capital One Financial, ]              [Financials]   2018-01-11   \n",
              "\n",
              "         weekday  text_nwords  \\\n",
              "19913   Thursday            8   \n",
              "6911   Wednesday            8   \n",
              "13248   Thursday            8   \n",
              "15399   Thursday            9   \n",
              "4508    Thursday            9   \n",
              "\n",
              "                                            text_cleaned  \\\n",
              "19913    walmart drops on whistleblower lawsuit hour ago   \n",
              "6911   berkshire hathaway updates succession plan min...   \n",
              "13248             lam research ceo on earnings hours ago   \n",
              "15399   nordstrom store for men opened thursday hour ago   \n",
              "4508   capital one financial raises minimum wage hour...   \n",
              "\n",
              "                                    text_no_stopwords  \n",
              "19913    walmart drops whistleblower lawsuit hour ago  \n",
              "6911       berkshire updates succession plan mins ago  \n",
              "13248                 research ceo earnings hours ago  \n",
              "15399                       store men opened hour ago  \n",
              "4508   capital financial raises minimum wage hour ago  "
            ]
          },
          "metadata": {
            "tags": []
          },
          "execution_count": 20
        }
      ]
    },
    {
      "cell_type": "code",
      "metadata": {
        "id": "p7hDhim9miJB",
        "colab_type": "code",
        "colab": {}
      },
      "source": [
        "# save a datasets for sentiment model training\n",
        "news_df_text = news_df[['news_id', 'text_no_stopwords']]\n",
        "news_df_text.to_csv('./dataset/cleaned_text_withid_40k.csv')\n",
        "\n",
        "# get unlabeled news \n",
        "labeled_data = pd.read_csv('dataset/clean_labeled_news_withid.csv', index_col=[0])\n",
        "news_df_text = news_df_text.loc[~news_df_text.news_id.isin(labeled_data.news_id)]\n",
        "news_df_text.to_csv('./dataset/clean_unlabel_news_withid.csv', index=False)"
      ],
      "execution_count": 0,
      "outputs": []
    },
    {
      "cell_type": "code",
      "metadata": {
        "id": "B1eXuqpQmiJD",
        "colab_type": "code",
        "colab": {}
      },
      "source": [
        "# cut news text to certain token length\n",
        "# def cut_first_n_words(text_nword, n=128):\n",
        "#     if int(text_nword[1]) > n:\n",
        "#         word_list = nltk.word_tokenize(text_nword[0])\n",
        "#         re_text = word_list[:n]\n",
        "#         return ' '.join(re_text)\n",
        "#     else:\n",
        "#         return text_nword[0]\n",
        "# max(news_df_text['text_128'].apply(lambda x: len(nltk.word_tokenize(x))))\n",
        "# news_df_text['text_128'] = news_df_text[['text_no_stopwords', 'text_nsw_nwords']].apply(cut_first_n_words, axis=1)\n",
        "# news_df_text"
      ],
      "execution_count": 0,
      "outputs": []
    },
    {
      "cell_type": "code",
      "metadata": {
        "id": "pfyLVu6WmiJF",
        "colab_type": "code",
        "colab": {}
      },
      "source": [
        "# from nltk.stem import WordNetLemmatizer\n",
        "\n",
        "# def lemmatizewords(text):\n",
        "#     lemmatizer = WordNetLemmatizer()\n",
        "#     lemmatized = []\n",
        "#     text_list = text.split(' ')\n",
        "#     lemmatized += [lemmatizer.lemmatize(each) for each in text_list]\n",
        "#     return ' '.join(lemmatized)\n",
        "\n",
        "# news_df['text_lemmatized'] = news_df['text_stemmed'].apply(lambda x: lemmatizewords(x))\n",
        "# news_df.head()"
      ],
      "execution_count": 0,
      "outputs": []
    },
    {
      "cell_type": "code",
      "metadata": {
        "id": "VsBwEYWjmiJG",
        "colab_type": "code",
        "colab": {}
      },
      "source": [
        "# from nltk.stem import PorterStemmer\n",
        "\n",
        "# def stemwords(text):\n",
        "#     stemmer = PorterStemmer()\n",
        "#     stemmed = []\n",
        "#     text_list = text.split(' ')\n",
        "#     stemmed += [stemmer.stem(each) for each in text_list]\n",
        "#     return ' '.join(stemmed)\n",
        "\n",
        "# news_df['text_stemmed'] = news_df['text_no_stopwords'].apply(lambda x: stemwords(x))\n",
        "# news_df.head()"
      ],
      "execution_count": 0,
      "outputs": []
    },
    {
      "cell_type": "markdown",
      "metadata": {
        "id": "Wo7re4AymiJJ",
        "colab_type": "text"
      },
      "source": [
        "### 4 Top N-gram Anlysis"
      ]
    },
    {
      "cell_type": "markdown",
      "metadata": {
        "colab_type": "text",
        "id": "Fc6CTEvDy4cA"
      },
      "source": [
        "#### 4.1 Top Words  by Industry"
      ]
    },
    {
      "cell_type": "code",
      "metadata": {
        "colab_type": "code",
        "id": "Djbvl14zy4b-",
        "outputId": "4087249f-fd52-4130-cbad-e45affa4c9aa",
        "colab": {}
      },
      "source": [
        "import matplotlib.pyplot as plt\n",
        "from wordcloud import WordCloud \n",
        "word_cloud_text = ''.join(news_df.text_no_stopwords)\n",
        "wordcloud = WordCloud(max_font_size=100, max_words=100, background_color='white',\\\n",
        "                     scale=10, width=1000, height=500).generate(word_cloud_text)\n",
        "plt.figure()\n",
        "plt.imshow(wordcloud, interpolation='bilinear')\n",
        "plt.axis('off')\n",
        "plt.show()"
      ],
      "execution_count": 0,
      "outputs": [
        {
          "output_type": "display_data",
          "data": {
            "image/png": "[encoded data removed]",
            "text/plain": [
              "<Figure size 432x288 with 1 Axes>"
            ]
          },
          "metadata": {
            "tags": [],
            "needs_background": "light"
          }
        }
      ]
    },
    {
      "cell_type": "code",
      "metadata": {
        "colab_type": "code",
        "id": "9qIEvGGFy4cB",
        "colab": {}
      },
      "source": [
        "def print_top_bottom_words(token_list, n):\n",
        "    words_counter = Counter(token_list)\n",
        "    print(f'Top {n} words in news:')\n",
        "    print(words_counter.most_common()[:n])\n",
        "    print()\n",
        "\n",
        "    print(f'Bottom {n} words in news:')\n",
        "    print(words_counter.most_common()[-n:])\n",
        "    print()"
      ],
      "execution_count": 0,
      "outputs": []
    },
    {
      "cell_type": "code",
      "metadata": {
        "colab_type": "code",
        "id": "5hsShRfOy4cD",
        "outputId": "0d02398e-1894-4217-d90b-e4bf9f76648b",
        "colab": {}
      },
      "source": [
        "word_tokens = nltk.word_tokenize(''.join(news_df['text_no_stopwords']))\n",
        "print_top_bottom_words(word_tokens, 25)"
      ],
      "execution_count": 0,
      "outputs": [
        {
          "output_type": "stream",
          "text": [
            "Top 25 words in news:\n",
            "[('company', 119168), ('net', 98730), ('percent', 84229), ('income', 83837), ('share', 60110), ('financial', 59031), ('operating', 52631), ('tax', 49803), ('gaap', 49437), ('business', 47614), ('market', 43373), ('total', 42841), ('adjusted', 42069), ('earnings', 41539), ('reuters', 41031), ('results', 39738), ('revenue', 37452), ('trade', 37344), ('ended', 37003), ('including', 36346), ('statements', 36237), ('shares', 36150), ('loss', 35899), ('assets', 33523), ('costs', 32240)]\n",
            "\n",
            "Bottom 25 words in news:\n",
            "[('infilled', 1), ('kkj', 1), ('norra', 1), ('arsenopyrite', 1), ('risberget', 1), ('deformation', 1), ('flexures', 1), ('thicknesses', 1), ('chipriona', 1), ('subvertical', 1), ('breccia', 1), ('subhorizontal', 1), ('dacite', 1), ('drillhole', 1), ('cayden', 1), ('guachinango', 1), ('bolas', 1), ('zapoteca', 1), ('simcoe', 1), ('kitilla', 1), ('resou', 1), ('legault', 1), ('aggregrate', 1), ('subcategories', 1), ('kylmakangas', 1)]\n",
            "\n"
          ],
          "name": "stdout"
        }
      ]
    },
    {
      "cell_type": "code",
      "metadata": {
        "colab_type": "code",
        "id": "IgZcVOY_y4cG",
        "colab": {}
      },
      "source": [
        "from nltk.util import ngrams\n",
        "def top_k_ngrams(text, n=1, k=1):\n",
        "    token_list = nltk.word_tokenize(text)\n",
        "    ngrams_list = list(ngrams(token_list, n))\n",
        "    gram_counter = Counter(ngrams_list)\n",
        "    return gram_counter.most_common()[:k]\n",
        "\n",
        "def top_k_ngrams_industry(industry, n=1, k=20):\n",
        "    if industry == 'all':\n",
        "        sub_df = news_df\n",
        "    else:\n",
        "        sub_df = news_df.loc[news_df['Industry'].apply(lambda x: True if industry in x else False)]\n",
        "    text = ''.join(sub_df.text_no_stopwords)\n",
        "    common_words = top_k_ngrams(text, n, k)\n",
        "    df = pd.DataFrame(common_words, columns=['Word','count'])\n",
        "    df['Word'] = df.Word.apply(lambda x:' '.join(x))\n",
        "    \n",
        "    if n==1:\n",
        "        gram_name = 'Words'\n",
        "    elif n==2:\n",
        "        gram_name = 'Bigrams'\n",
        "    elif n==3:\n",
        "        gram_name = 'Trigrams'\n",
        "    elif n==4:\n",
        "        gram_name = 'Quatgrams'\n",
        "    else:\n",
        "        gram_name = f'{n}grams'\n",
        "    \n",
        "    print(f'top {gram_name} in {industry} industry')\n",
        "    print(df)\n",
        "    df.groupby('Word').sum()['count'].sort_values(ascending=False).plot(kind='bar', title=f'Top {gram_name} in {industry} industry')"
      ],
      "execution_count": 0,
      "outputs": []
    },
    {
      "cell_type": "code",
      "metadata": {
        "colab_type": "code",
        "id": "yWC7pC9ky4cI",
        "outputId": "159cbb7a-56f4-4ce5-a28a-09053da7bfde",
        "colab": {}
      },
      "source": [
        "top_k_ngrams_industry('all', n=1, k=30)"
      ],
      "execution_count": 0,
      "outputs": [
        {
          "output_type": "stream",
          "text": [
            "top Words in all industry\n",
            "           Word   count\n",
            "0       company  119168\n",
            "1           net   98730\n",
            "2       percent   84229\n",
            "3        income   83837\n",
            "4         share   60110\n",
            "5     financial   59031\n",
            "6     operating   52631\n",
            "7           tax   49803\n",
            "8          gaap   49437\n",
            "9      business   47614\n",
            "10       market   43373\n",
            "11        total   42841\n",
            "12     adjusted   42069\n",
            "13     earnings   41539\n",
            "14      reuters   41031\n",
            "15      results   39738\n",
            "16      revenue   37452\n",
            "17        trade   37344\n",
            "18        ended   37003\n",
            "19    including   36346\n",
            "20   statements   36237\n",
            "21       shares   36150\n",
            "22         loss   35899\n",
            "23       assets   33523\n",
            "24        costs   32240\n",
            "25       growth   32025\n",
            "26  information   31827\n",
            "27        based   30890\n",
            "28    companies   30879\n",
            "29   operations   30438\n"
          ],
          "name": "stdout"
        },
        {
          "output_type": "display_data",
          "data": {
            "image/png": "[encoded data removed]",
            "text/plain": [
              "<Figure size 432x288 with 1 Axes>"
            ]
          },
          "metadata": {
            "tags": [],
            "needs_background": "light"
          }
        }
      ]
    },
    {
      "cell_type": "code",
      "metadata": {
        "colab_type": "code",
        "id": "-Y7rjHTfy4cL",
        "outputId": "3556ad40-7ee6-4ac9-a71b-d80811732796",
        "colab": {}
      },
      "source": [
        "top_k_ngrams_industry('Financials', 1, k=30)"
      ],
      "execution_count": 0,
      "outputs": [
        {
          "output_type": "stream",
          "text": [
            "top Words in Financials industry\n",
            "          Word  count\n",
            "0          net  61158\n",
            "1      company  53678\n",
            "2       income  52229\n",
            "3      percent  49255\n",
            "4    financial  37157\n",
            "5        trade  33506\n",
            "6        share  30665\n",
            "7    operating  30251\n",
            "8          tax  27800\n",
            "9       market  26555\n",
            "10       total  26453\n",
            "11        gaap  26402\n",
            "12    adjusted  26009\n",
            "13        loss  24236\n",
            "14    business  22738\n",
            "15       ended  22687\n",
            "16        bank  22045\n",
            "17      assets  21806\n",
            "18     results  21431\n",
            "19    earnings  20630\n",
            "20  statements  20148\n",
            "21      shares  19842\n",
            "22     revenue  19730\n",
            "23     reuters  19568\n",
            "24    interest  19483\n",
            "25       costs  18660\n",
            "26   including  17789\n",
            "27      growth  17456\n",
            "28     capital  17444\n",
            "29       trump  17397\n"
          ],
          "name": "stdout"
        },
        {
          "output_type": "display_data",
          "data": {
            "image/png": "[encoded data removed]",
            "text/plain": [
              "<Figure size 432x288 with 1 Axes>"
            ]
          },
          "metadata": {
            "tags": [],
            "needs_background": "light"
          }
        }
      ]
    },
    {
      "cell_type": "code",
      "metadata": {
        "colab_type": "code",
        "id": "1YY0bVN5y4cN",
        "outputId": "a057f6ab-d536-488b-e1e1-808635f9b6c6",
        "scrolled": true,
        "colab": {}
      },
      "source": [
        "top_k_ngrams_industry('Information Technology', 1 , k=30)"
      ],
      "execution_count": 0,
      "outputs": [
        {
          "output_type": "stream",
          "text": [
            "top Words in Information Technology industry\n",
            "           Word  count\n",
            "0       company  15186\n",
            "1       percent  10745\n",
            "2          gaap   9060\n",
            "3           net   7962\n",
            "4         share   7649\n",
            "5      business   7043\n",
            "6     financial   6684\n",
            "7       revenue   6667\n",
            "8        income   6562\n",
            "9        shares   5947\n",
            "10      reuters   5814\n",
            "11    companies   5587\n",
            "12   technology   5473\n",
            "13     earnings   5461\n",
            "14          tax   5311\n",
            "15         data   5304\n",
            "16       market   5123\n",
            "17    operating   5089\n",
            "18        based   4899\n",
            "19   statements   4382\n",
            "20    including   4283\n",
            "21      results   4241\n",
            "22  information   4198\n",
            "23   securities   3979\n",
            "24     offering   3913\n",
            "25     services   3896\n",
            "26         corp   3573\n",
            "27       growth   3567\n",
            "28         time   3550\n",
            "29    investors   3475\n"
          ],
          "name": "stdout"
        },
        {
          "output_type": "display_data",
          "data": {
            "image/png": "[encoded data removed]",
            "text/plain": [
              "<Figure size 432x288 with 1 Axes>"
            ]
          },
          "metadata": {
            "tags": [],
            "needs_background": "light"
          }
        }
      ]
    },
    {
      "cell_type": "markdown",
      "metadata": {
        "colab_type": "text",
        "id": "O7gL-pApy4cQ"
      },
      "source": [
        "####  4.2 Top Bigrams  by Industry"
      ]
    },
    {
      "cell_type": "code",
      "metadata": {
        "colab_type": "code",
        "id": "VOhgaklOy4cQ",
        "outputId": "9094fb9a-e1f1-4456-fef8-24ee97af1ac3",
        "scrolled": true,
        "colab": {}
      },
      "source": [
        "top_k_ngrams_industry('all', 2)"
      ],
      "execution_count": 0,
      "outputs": [
        {
          "output_type": "stream",
          "text": [
            "top Bigrams in all industry\n",
            "                         Word  count\n",
            "0                  net income  28206\n",
            "1          forward statements  18847\n",
            "2             adjusted ebitda  13513\n",
            "3            operating income  11071\n",
            "4              earnings share  11028\n",
            "5              gaap financial  10337\n",
            "6                 income loss   9652\n",
            "7                income taxes   9506\n",
            "8             chief executive   9336\n",
            "9                  income tax   9221\n",
            "10         financial measures   9073\n",
            "11              press release   8199\n",
            "12                   net loss   8189\n",
            "13                 file photo   6973\n",
            "14            president trump   6969\n",
            "15  depreciation amortization   6461\n",
            "16      continuing operations   6365\n",
            "17       operating activities   6179\n",
            "18          financial results   6141\n",
            "19        risks uncertainties   6128\n"
          ],
          "name": "stdout"
        },
        {
          "output_type": "display_data",
          "data": {
            "image/png": "[encoded data removed]",
            "text/plain": [
              "<Figure size 432x288 with 1 Axes>"
            ]
          },
          "metadata": {
            "tags": [],
            "needs_background": "light"
          }
        }
      ]
    },
    {
      "cell_type": "code",
      "metadata": {
        "colab_type": "code",
        "id": "_YQgZgdey4cT",
        "outputId": "4de814a2-76fd-4344-81db-41fd24ba2f3b",
        "colab": {}
      },
      "source": [
        "top_k_ngrams_industry('Financials',2)"
      ],
      "execution_count": 0,
      "outputs": [
        {
          "output_type": "stream",
          "text": [
            "top Bigrams in Financials industry\n",
            "                         Word  count\n",
            "0                  net income  16873\n",
            "1          forward statements   9998\n",
            "2             adjusted ebitda   9303\n",
            "3            operating income   6685\n",
            "4                 income loss   6450\n",
            "5              gaap financial   5842\n",
            "6                income taxes   5697\n",
            "7                  income tax   5624\n",
            "8                    net loss   5499\n",
            "9          financial measures   5245\n",
            "10            president trump   4947\n",
            "11             earnings share   4832\n",
            "12              press release   4521\n",
            "13               central bank   4147\n",
            "14  depreciation amortization   4129\n",
            "15       operating activities   3932\n",
            "16               adjusted net   3853\n",
            "17            chief executive   3796\n",
            "18             current assets   3775\n",
            "19            federal reserve   3754\n"
          ],
          "name": "stdout"
        },
        {
          "output_type": "display_data",
          "data": {
            "image/png": "[encoded data removed]",
            "text/plain": [
              "<Figure size 432x288 with 1 Axes>"
            ]
          },
          "metadata": {
            "tags": [],
            "needs_background": "light"
          }
        }
      ]
    },
    {
      "cell_type": "code",
      "metadata": {
        "colab_type": "code",
        "id": "Po51sUfoy4cV",
        "outputId": "217d313d-2b2d-425b-cb1c-76bb1b4de33e",
        "colab": {}
      },
      "source": [
        "top_k_ngrams_industry('Information Technology',2)"
      ],
      "execution_count": 0,
      "outputs": [
        {
          "output_type": "stream",
          "text": [
            "top Bigrams in Information Technology industry\n",
            "                   Word  count\n",
            "0            net income   2534\n",
            "1    forward statements   2403\n",
            "2        earnings share   1529\n",
            "3        gaap financial   1456\n",
            "4         press release   1385\n",
            "5       chief executive   1317\n",
            "6    financial measures   1293\n",
            "7    based compensation   1216\n",
            "8              gaap net   1166\n",
            "9            file photo   1162\n",
            "10          cents share    931\n",
            "11  securities exchange    913\n",
            "12     operating income    907\n",
            "13      public offering    894\n",
            "14     earnings release    861\n",
            "15       gaap operating    813\n",
            "16           income tax    800\n",
            "17         income taxes    795\n",
            "18  exchange commission    790\n",
            "19  risks uncertainties    786\n"
          ],
          "name": "stdout"
        },
        {
          "output_type": "display_data",
          "data": {
            "image/png": "[encoded data removed]",
            "text/plain": [
              "<Figure size 432x288 with 1 Axes>"
            ]
          },
          "metadata": {
            "tags": [],
            "needs_background": "light"
          }
        }
      ]
    },
    {
      "cell_type": "markdown",
      "metadata": {
        "colab_type": "text",
        "id": "yCE1kZEry4ch"
      },
      "source": [
        "After experiments, top trigrams and quatgrams can contain some noise phrases, so we think bigrams could give us the most information."
      ]
    },
    {
      "cell_type": "markdown",
      "metadata": {
        "id": "gxB1Mt3zmiJf",
        "colab_type": "text"
      },
      "source": [
        "#### 4.3 Top Bi-grams by Positive/Negative Sentiment"
      ]
    },
    {
      "cell_type": "code",
      "metadata": {
        "id": "J3Aecoy_miJf",
        "colab_type": "code",
        "colab": {}
      },
      "source": [
        "def top_k_ngrams_sentiment(label, n=1, k=20):\n",
        "    sdict = {'positive':1.0, 'neutral':0.0, 'negative':-1.0}\n",
        "    sub_df = labeled_data.loc[labeled_data['label']==sdict[label]]\n",
        "    text = ''.join(sub_df.text_no_stopwords)\n",
        "    common_words = top_k_ngrams(text, n, k)\n",
        "    df = pd.DataFrame(common_words, columns=['Word','count'])\n",
        "    df['Word'] = df.Word.apply(lambda x:' '.join(x))\n",
        "    \n",
        "    if n==1:\n",
        "        gram_name = 'Words'\n",
        "    elif n==2:\n",
        "        gram_name = 'Bigrams'\n",
        "    elif n==3:\n",
        "        gram_name = 'Trigrams'\n",
        "    elif n==4:\n",
        "        gram_name = 'Quatgrams'\n",
        "    else:\n",
        "        gram_name = f'{n}grams'\n",
        "    \n",
        "    print(f'top {gram_name} in {label} news')\n",
        "    print(df)\n",
        "    return df\n",
        "#     df.groupby('Word').sum()['count'].sort_values(ascending=False).plot(kind='bar', title=f'Top {gram_name} in {label} news')"
      ],
      "execution_count": 0,
      "outputs": []
    },
    {
      "cell_type": "code",
      "metadata": {
        "id": "mYxNTj1qmiJi",
        "colab_type": "code",
        "colab": {},
        "outputId": "15fc23c2-8b47-410e-b838-07cd4395e37a"
      },
      "source": [
        "positive_top_bigrams = top_k_ngrams_sentiment('positive', 2)"
      ],
      "execution_count": 0,
      "outputs": [
        {
          "output_type": "stream",
          "text": [
            "top Bigrams in positive news\n",
            "                  Word  count\n",
            "0      chief executive    103\n",
            "1       earnings share     71\n",
            "2   forward statements     66\n",
            "3           file photo     55\n",
            "4    executive officer     52\n",
            "5        reuters staff     50\n",
            "6      percent percent     47\n",
            "7          cents share     47\n",
            "8    bengaluru editing     39\n",
            "9           oil prices     38\n",
            "10         minutes ago     38\n",
            "11     president trump     37\n",
            "12     today announced     37\n",
            "13        told reuters     37\n",
            "14         source text     37\n",
            "15       business wire     36\n",
            "16      points percent     36\n",
            "17       news releases     34\n",
            "18         html source     34\n",
            "19    original content     33\n"
          ],
          "name": "stdout"
        }
      ]
    },
    {
      "cell_type": "code",
      "metadata": {
        "id": "nMaEAzmMmiJk",
        "colab_type": "code",
        "colab": {},
        "outputId": "4260a93b-a56a-4364-b983-0c5941add513"
      },
      "source": [
        "negative_top_bigrams = top_k_ngrams_sentiment('negative', 2)"
      ],
      "execution_count": 0,
      "outputs": [
        {
          "output_type": "stream",
          "text": [
            "top Bigrams in negative news\n",
            "                    Word  count\n",
            "0        president trump     68\n",
            "1             file photo     65\n",
            "2              trade war     53\n",
            "3        chief executive     47\n",
            "4   additional reporting     45\n",
            "5           told reuters     34\n",
            "6            minutes ago     32\n",
            "7          reuters staff     32\n",
            "8              hours ago     30\n",
            "9       declined comment     29\n",
            "10            oil prices     28\n",
            "11        shares percent     27\n",
            "12          central bank     26\n",
            "13        prime minister     25\n",
            "14       percent percent     23\n",
            "15         staff reuters     23\n",
            "16       updated minutes     22\n",
            "17       trade agreement     21\n",
            "18        interest rates     20\n",
            "19           world trade     19\n"
          ],
          "name": "stdout"
        }
      ]
    },
    {
      "cell_type": "code",
      "metadata": {
        "id": "zWeoEUPimiJm",
        "colab_type": "code",
        "colab": {}
      },
      "source": [
        "noise_words = set(['file photo','percent percent','bengaluru editing','minutes ago','hours ago','source text','points percent','html source','reuters staff','told reuters','staff reuters','updated minutes'])"
      ],
      "execution_count": 0,
      "outputs": []
    },
    {
      "cell_type": "code",
      "metadata": {
        "id": "30KKsfwVmiJo",
        "colab_type": "code",
        "colab": {},
        "outputId": "bd74a408-478c-4eca-9d5f-6ec9a3eafc33"
      },
      "source": [
        "common_words = set(positive_top_bigrams.Word).intersection(set(negative_top_bigrams.Word))\n",
        "print(f'Common top words in +/- news: \\n{common_words-noise_words}')"
      ],
      "execution_count": 0,
      "outputs": [
        {
          "output_type": "stream",
          "text": [
            "Common top words in +/- news: \n",
            "{'chief executive', 'oil prices', 'president trump'}\n"
          ],
          "name": "stdout"
        }
      ]
    },
    {
      "cell_type": "markdown",
      "metadata": {
        "id": "sO40dbFDmiJq",
        "colab_type": "text"
      },
      "source": [
        "Words that mentioned most in both + & - news are __CEO, President, Oil price__. This makes perfect sense as company CEOs usually mentioned with company plans/actions/performance, President is often associated with government policies/actions, and oil price is an important and basic indicator in marco economy performance. Company performance, governement policy and oil price are indeed main factors that could effect and reflect the market stock price."
      ]
    },
    {
      "cell_type": "code",
      "metadata": {
        "id": "qgpNgHxpmiJq",
        "colab_type": "code",
        "colab": {},
        "outputId": "6af02829-85eb-4d7d-cadb-142d7339aa6e"
      },
      "source": [
        "print('Top words in + news after removing noise:')\n",
        "set(positive_top_bigrams.Word)-noise_words"
      ],
      "execution_count": 0,
      "outputs": [
        {
          "output_type": "stream",
          "text": [
            "Top words in + news after removing noise:\n"
          ],
          "name": "stdout"
        },
        {
          "output_type": "execute_result",
          "data": {
            "text/plain": [
              "{'business wire',\n",
              " 'cents share',\n",
              " 'chief executive',\n",
              " 'earnings share',\n",
              " 'executive officer',\n",
              " 'forward statements',\n",
              " 'news releases',\n",
              " 'oil prices',\n",
              " 'original content',\n",
              " 'president trump',\n",
              " 'today announced'}"
            ]
          },
          "metadata": {
            "tags": []
          },
          "execution_count": 125
        }
      ]
    },
    {
      "cell_type": "markdown",
      "metadata": {
        "id": "GjQ_MgS-miJs",
        "colab_type": "text"
      },
      "source": [
        "According to the result, company __earning share__, __forward statements__, __new relases__(of product) and (creating) __original content__ have positive effects on a company."
      ]
    },
    {
      "cell_type": "code",
      "metadata": {
        "id": "FsBEN0hmmiJs",
        "colab_type": "code",
        "colab": {},
        "outputId": "b1888a84-9830-42f1-fea7-b80a5ebae1a0"
      },
      "source": [
        "print('Top words in - news after removing noise:')\n",
        "set(negative_top_bigrams.Word)-noise_words"
      ],
      "execution_count": 0,
      "outputs": [
        {
          "output_type": "stream",
          "text": [
            "Top words in - news after removing noise:\n"
          ],
          "name": "stdout"
        },
        {
          "output_type": "execute_result",
          "data": {
            "text/plain": [
              "{'additional reporting',\n",
              " 'central bank',\n",
              " 'chief executive',\n",
              " 'declined comment',\n",
              " 'interest rates',\n",
              " 'oil prices',\n",
              " 'president trump',\n",
              " 'prime minister',\n",
              " 'shares percent',\n",
              " 'trade agreement',\n",
              " 'trade war',\n",
              " 'world trade'}"
            ]
          },
          "metadata": {
            "tags": []
          },
          "execution_count": 126
        }
      ]
    },
    {
      "cell_type": "markdown",
      "metadata": {
        "id": "1mqCp_WmmiJu",
        "colab_type": "text"
      },
      "source": [
        "According to the result, news related to __declined comment__, __trade war__ and __president trump__ have positive effects on a company."
      ]
    },
    {
      "cell_type": "code",
      "metadata": {
        "id": "fTKhGukgmiJu",
        "colab_type": "code",
        "colab": {},
        "outputId": "18f0a914-fa9c-40b1-ffac-d2f733b1860c"
      },
      "source": [
        "print('Top 10 bigrams in +/- News')\n",
        "pd.DataFrame({'Positive News':['chief executive','earnings share','forward statements','cents share','business wire',\n",
        " 'oil prices','president trump', 'today announced', 'news releases',\n",
        " 'original content'], 'Negative News':['president trump','trade war','chief executive','additional reporting','declined comment', 'oil prices',\n",
        " 'shares percent','central bank','prime minister','trade agreement']})"
      ],
      "execution_count": 0,
      "outputs": [
        {
          "output_type": "stream",
          "text": [
            "Top 10 bigrams in +/- News\n"
          ],
          "name": "stdout"
        },
        {
          "output_type": "execute_result",
          "data": {
            "text/html": [
              "<div>\n",
              "<style scoped>\n",
              "    .dataframe tbody tr th:only-of-type {\n",
              "        vertical-align: middle;\n",
              "    }\n",
              "\n",
              "    .dataframe tbody tr th {\n",
              "        vertical-align: top;\n",
              "    }\n",
              "\n",
              "    .dataframe thead th {\n",
              "        text-align: right;\n",
              "    }\n",
              "</style>\n",
              "<table border=\"1\" class=\"dataframe\">\n",
              "  <thead>\n",
              "    <tr style=\"text-align: right;\">\n",
              "      <th></th>\n",
              "      <th>Positive News</th>\n",
              "      <th>Negative News</th>\n",
              "    </tr>\n",
              "  </thead>\n",
              "  <tbody>\n",
              "    <tr>\n",
              "      <th>0</th>\n",
              "      <td>chief executive</td>\n",
              "      <td>president trump</td>\n",
              "    </tr>\n",
              "    <tr>\n",
              "      <th>1</th>\n",
              "      <td>earnings share</td>\n",
              "      <td>trade war</td>\n",
              "    </tr>\n",
              "    <tr>\n",
              "      <th>2</th>\n",
              "      <td>forward statements</td>\n",
              "      <td>chief executive</td>\n",
              "    </tr>\n",
              "    <tr>\n",
              "      <th>3</th>\n",
              "      <td>cents share</td>\n",
              "      <td>additional reporting</td>\n",
              "    </tr>\n",
              "    <tr>\n",
              "      <th>4</th>\n",
              "      <td>business wire</td>\n",
              "      <td>declined comment</td>\n",
              "    </tr>\n",
              "    <tr>\n",
              "      <th>5</th>\n",
              "      <td>oil prices</td>\n",
              "      <td>oil prices</td>\n",
              "    </tr>\n",
              "    <tr>\n",
              "      <th>6</th>\n",
              "      <td>president trump</td>\n",
              "      <td>shares percent</td>\n",
              "    </tr>\n",
              "    <tr>\n",
              "      <th>7</th>\n",
              "      <td>today announced</td>\n",
              "      <td>central bank</td>\n",
              "    </tr>\n",
              "    <tr>\n",
              "      <th>8</th>\n",
              "      <td>news releases</td>\n",
              "      <td>prime minister</td>\n",
              "    </tr>\n",
              "    <tr>\n",
              "      <th>9</th>\n",
              "      <td>original content</td>\n",
              "      <td>trade agreement</td>\n",
              "    </tr>\n",
              "  </tbody>\n",
              "</table>\n",
              "</div>"
            ],
            "text/plain": [
              "        Positive News         Negative News\n",
              "0     chief executive       president trump\n",
              "1      earnings share             trade war\n",
              "2  forward statements       chief executive\n",
              "3         cents share  additional reporting\n",
              "4       business wire      declined comment\n",
              "5          oil prices            oil prices\n",
              "6     president trump        shares percent\n",
              "7     today announced          central bank\n",
              "8       news releases        prime minister\n",
              "9    original content       trade agreement"
            ]
          },
          "metadata": {
            "tags": []
          },
          "execution_count": 130
        }
      ]
    },
    {
      "cell_type": "code",
      "metadata": {
        "id": "_y6LqGComiJw",
        "colab_type": "code",
        "colab": {}
      },
      "source": [
        ""
      ],
      "execution_count": 0,
      "outputs": []
    }
  ]
}